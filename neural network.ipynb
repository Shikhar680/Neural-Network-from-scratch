{
 "cells": [
  {
   "cell_type": "markdown",
   "metadata": {},
   "source": [
    "# Import necessary modules\n",
    "---"
   ]
  },
  {
   "cell_type": "code",
   "execution_count": 12,
   "metadata": {},
   "outputs": [],
   "source": [
    "import numpy as np\n",
    "import tensorflow as tf\n",
    "from tensorflow.keras import layers, models\n",
    "from tensorflow.keras.utils import to_categorical\n",
    "from sklearn.model_selection import train_test_split\n",
    "from sklearn.metrics import accuracy_score, precision_score, recall_score, f1_score\n",
    "import time\n",
    "import matplotlib.pyplot as plt\n",
    "from tensorflow.keras.datasets import mnist\n",
    "from sklearn.preprocessing import OneHotEncoder\n",
    "from sklearn.metrics import confusion_matrix"
   ]
  },
  {
   "cell_type": "markdown",
   "metadata": {},
   "source": [
    "# Dataset Loading and Pre-Procesing\n",
    "---"
   ]
  },
  {
   "cell_type": "code",
   "execution_count": 13,
   "metadata": {},
   "outputs": [],
   "source": [
    "# Load MNIST dataset\n",
    "(X_train, y_train), (X_test, y_test) = mnist.load_data()\n",
    "\n",
    "# Flatten and normalize the images\n",
    "X_train_flat = X_train.reshape(-1, 28 * 28) / 255.0\n",
    "X_test_flat = X_test.reshape(-1, 28 * 28) / 255.0\n",
    "\n",
    "# One-hot encode the labels\n",
    "onehot_encoder = OneHotEncoder(sparse_output=False, categories='auto')\n",
    "y_train = onehot_encoder.fit_transform(y_train.reshape(-1, 1))\n",
    "y_test = onehot_encoder.transform(y_test.reshape(-1, 1))\n",
    "\n",
    "# Split data into train and validation sets\n",
    "X_train_flat, X_val_flat, y_train_flat, y_val_flat = train_test_split(\n",
    "    X_train_flat, y_train, test_size=0.2, random_state=42\n",
    ")"
   ]
  },
  {
   "cell_type": "markdown",
   "metadata": {},
   "source": [
    "# Building Neural Network from scratch\n",
    "----\n",
    "* Define necessary functions"
   ]
  },
  {
   "cell_type": "code",
   "execution_count": 14,
   "metadata": {},
   "outputs": [],
   "source": [
    "# Initialize parameters\n",
    "def init_params(input_size, hidden_size, output_size):\n",
    "    w1 = np.random.randn(hidden_size, input_size) * np.sqrt(2 / input_size)\n",
    "    b1 = np.zeros((hidden_size, 1))\n",
    "    w2 = np.random.randn(output_size, hidden_size) * np.sqrt(2 / hidden_size)\n",
    "    b2 = np.zeros((output_size, 1))\n",
    "    return w1, b1, w2, b2\n",
    "\n",
    "\n",
    "def get_predictions(X, w1, b1, w2, b2):\n",
    "    z1 = np.dot(w1, X) + b1  # Assuming X is shaped (num_samples, input_dim)\n",
    "    a1 = relu(z1)  # Using ReLU as in forward pass\n",
    "    z2 = np.dot(w2, a1) + b2\n",
    "    a2 = softmax(z2)  # Use softmax to get probabilities for each class\n",
    "    return np.argmax(a2, axis=0)\n",
    "# Function to get precision, recall, and f1 score\n",
    "def calculate_precision_recall_f1(y_true, y_pred, num_classes):\n",
    "    cm = confusion_matrix(y_true, y_pred)  # Confusion matrix\n",
    "    precisions = []\n",
    "    recalls = []\n",
    "    f1_scores = []\n",
    "    \n",
    "    # For each class, calculate precision, recall, and F1\n",
    "    for i in range(num_classes):\n",
    "        TP = cm[i, i]\n",
    "        FP = cm[:, i].sum() - TP\n",
    "        FN = cm[i, :].sum() - TP\n",
    "        \n",
    "        precision = TP / (TP + FP) if (TP + FP) > 0 else 0\n",
    "        recall = TP / (TP + FN) if (TP + FN) > 0 else 0\n",
    "        f1 = 2 * (precision * recall) / (precision + recall) if (precision + recall) > 0 else 0\n",
    "        \n",
    "        precisions.append(precision)\n",
    "        recalls.append(recall)\n",
    "        f1_scores.append(f1)\n",
    "    \n",
    "    # Macro-average (average across all classes)\n",
    "    precision_macro = sum(precisions) / num_classes\n",
    "    recall_macro = sum(recalls) / num_classes\n",
    "    f1_macro = sum(f1_scores) / num_classes\n",
    "    \n",
    "    return precision_macro, recall_macro, f1_macro\n",
    "\n",
    "def sigmoid(x):\n",
    "    return 1 / (1 + np.exp(-x))\n",
    "\n",
    "\n",
    "# ReLU activation function\n",
    "def relu(z):\n",
    "    return np.maximum(0, z)\n",
    "\n",
    "# Derivative of ReLU\n",
    "def derivative_relu(z):\n",
    "    return (z > 0).astype(float)\n",
    "\n",
    "# Softmax activation function\n",
    "def softmax(z):\n",
    "    exp_z = np.exp(z - np.max(z, axis=0, keepdims=True))\n",
    "    return exp_z / np.sum(exp_z, axis=0, keepdims=True)\n",
    "\n",
    "# Cross-entropy loss function\n",
    "def cross_entropy_loss(a2, y):\n",
    "    m = y.shape[1]\n",
    "    log_likelihood = -np.log(a2[y.argmax(axis=0), np.arange(m)])\n",
    "    loss = np.sum(log_likelihood) / m\n",
    "    return loss\n",
    "\n",
    "# Forward pass\n",
    "def forward(x, w1, b1, w2, b2):\n",
    "    z1 = w1.dot(x) + b1\n",
    "    a1 = relu(z1)\n",
    "    z2 = w2.dot(a1) + b2\n",
    "    a2 = softmax(z2)\n",
    "    return z1, a1, z2, a2\n",
    "\n",
    "# Backpropagation\n",
    "def backpropagation(z1, a1, z2, a2, w2, x, y):\n",
    "    m = y.shape[1]\n",
    "    dz2 = a2 - y  # No need to one-hot encode here since y is already one-hot encoded\n",
    "    dw2 = (1 / m) * dz2.dot(a1.T)\n",
    "    db2 = (1 / m) * np.sum(dz2, axis=1, keepdims=True)\n",
    "    dz1 = w2.T.dot(dz2) * derivative_relu(z1)\n",
    "    dw1 = (1 / m) * dz1.dot(x.T)\n",
    "    db1 = (1 / m) * np.sum(dz1, axis=1, keepdims=True)\n",
    "    return db1, dw1, db2, dw2\n",
    "\n",
    "# Update weights and biases\n",
    "def update_params(w1, b1, w2, b2, db1, dw1, db2, dw2, lr):\n",
    "    w1 -= lr * dw1\n",
    "    b1 -= lr * db1\n",
    "    w2 -= lr * dw2\n",
    "    b2 -= lr * db2\n",
    "    return w1, b1, w2, b2\n",
    "\n",
    "# Calculate accuracy\n",
    "def get_accuracy(pred, y):\n",
    "    return np.sum(pred == y) / y.size\n",
    "\n",
    "# Plot learning curves\n",
    "def plot_learning_curves(losses, accuracies):\n",
    "    fig, ax1 = plt.subplots()\n",
    "\n",
    "    color = 'tab:red'\n",
    "    ax1.set_xlabel('Iterations')\n",
    "    ax1.set_ylabel('Loss', color=color)\n",
    "    ax1.plot(losses, color=color)\n",
    "    ax1.tick_params(axis='y', labelcolor=color)\n",
    "\n",
    "    ax2 = ax1.twinx()\n",
    "    color = 'tab:blue'\n",
    "    ax2.set_ylabel('Accuracy', color=color)\n",
    "    ax2.plot(accuracies, color=color)\n",
    "    ax2.tick_params(axis='y', labelcolor=color)\n",
    "\n",
    "    fig.tight_layout()\n",
    "    plt.show()\n",
    "\n",
    "# One-hot encoding of labels\n",
    "def one_hot_encode(y, num_classes):\n",
    "    y_encoded = np.zeros((y.size, num_classes))\n",
    "    y_encoded[np.arange(y.size), y.flatten().astype(int)] = 1  # Ensure y is integer type\n",
    "    return y_encoded.T\n",
    "\n",
    "# Gradient descent function\n",
    "def grad_desc(x, y, iterations, lr):\n",
    "    w1, b1, w2, b2 = init_params(x.shape[0], 128, y.shape[0])  # Assuming hidden layer size of 128\n",
    "    losses = []\n",
    "    accuracies = []\n",
    "    \n",
    "    for i in range(iterations):\n",
    "        z1, a1, z2, a2 = forward(x, w1, b1, w2, b2)\n",
    "        loss = cross_entropy_loss(a2, y)\n",
    "        losses.append(loss)\n",
    "        \n",
    "        db1, dw1, db2, dw2 = backpropagation(z1, a1, z2, a2, w2, x, y)\n",
    "        w1, b1, w2, b2 = update_params(w1, b1, w2, b2, db1, dw1, db2, dw2, lr)\n",
    "        accuracy = get_accuracy(get_predictions(x, w1, b1, w2, b2), np.argmax(y, axis=0))\n",
    "        accuracies.append(accuracy)\n",
    "        if i % 100 == 0:\n",
    "            print(f\"Iteration {i}, Accuracy {accuracy:.4f}, Loss {loss:.4f}\")\n",
    "\n",
    "\n",
    "    return w1, b1, w2, b2, losses, accuracies\n"
   ]
  },
  {
   "cell_type": "markdown",
   "metadata": {},
   "source": [
    "# Data Preperation and Training\n",
    "---"
   ]
  },
  {
   "cell_type": "code",
   "execution_count": 15,
   "metadata": {},
   "outputs": [
    {
     "name": "stdout",
     "output_type": "stream",
     "text": [
      "Training with learning rate: 0.2\n",
      "Iteration 0, Accuracy 0.3010, Loss 2.3622\n",
      "Iteration 100, Accuracy 0.9006, Loss 0.3631\n",
      "Iteration 200, Accuracy 0.9179, Loss 0.2965\n",
      "Iteration 300, Accuracy 0.9276, Loss 0.2610\n",
      "Iteration 400, Accuracy 0.9352, Loss 0.2353\n",
      "Iteration 500, Accuracy 0.9412, Loss 0.2153\n",
      "Iteration 600, Accuracy 0.9457, Loss 0.1987\n",
      "Iteration 700, Accuracy 0.9490, Loss 0.1846\n",
      "Iteration 800, Accuracy 0.9520, Loss 0.1726\n",
      "Iteration 900, Accuracy 0.9550, Loss 0.1622\n"
     ]
    }
   ],
   "source": [
    "\n",
    "# Load and prepare MNIST data\n",
    "(x_train, y_train), (x_test, y_test) = mnist.load_data()\n",
    "x_train = x_train.reshape(x_train.shape[0], -1) / 255.0\n",
    "x_test = x_test.reshape(x_test.shape[0], -1) / 255.0\n",
    "\n",
    "# Ensure y is of integer type\n",
    "y_train = y_train.astype(int)  # Convert to integer type\n",
    "y_test = y_test.astype(int)  # Convert to integer type\n",
    "\n",
    "# One-hot encode the labels\n",
    "y_train_one_hot = one_hot_encode(y_train, 10)\n",
    "y_test_one_hot = one_hot_encode(y_test, 10)\n",
    "\n",
    "# Train the model\n",
    "best_lr = 0.2\n",
    "print(f\"Training with learning rate: {best_lr}\")\n",
    "\n",
    "start_time = time.time()\n",
    "\n",
    "# When calling grad_desc\n",
    "w1, b1, w2, b2, losses, accuracies = grad_desc(x_train.T, y_train_one_hot, iterations=1000, lr=best_lr)\n",
    "\n",
    "time_scratch = time.time() - start_time\n"
   ]
  },
  {
   "cell_type": "markdown",
   "metadata": {},
   "source": [
    "# Evaluating the model\n",
    "---"
   ]
  },
  {
   "cell_type": "code",
   "execution_count": 16,
   "metadata": {},
   "outputs": [
    {
     "name": "stdout",
     "output_type": "stream",
     "text": [
      "Accuracy: 0.9547\n",
      "Precision: 0.9544\n",
      "Recall: 0.9542\n",
      "F1-Score: 0.9542\n",
      "Training Time (Neural Network from Scratch): 975.6853 seconds\n"
     ]
    }
   ],
   "source": [
    "# Reshape X_test_flat to be (num_samples, 784) if it's currently (784,)\n",
    "import numpy as np\n",
    "\n",
    "X_test_flat = X_test_flat.reshape(-1, 784)  # Ensure it's a 2D array\n",
    "\n",
    "y_pred_scratch = get_predictions(X_test_flat.T, w1, b1, w2, b2)  # Shape should now be (num_samples,)\n",
    "acc_scratch = np.sum(y_pred_scratch == y_test) / y_test.size\n",
    "\n",
    "# Assuming y_test_labels is already defined and in shape (10000,)\n",
    "precision_scratch, recall_scratch, f1_scratch = calculate_precision_recall_f1(y_test, y_pred_scratch, num_classes=10)\n",
    "print(f'Accuracy: {acc_scratch:.4f}')\n",
    "print(f'Precision: {precision_scratch:.4f}')\n",
    "print(f'Recall: {recall_scratch:.4f}')\n",
    "print(f'F1-Score: {f1_scratch:.4f}')\n",
    "print(f\"Training Time (Neural Network from Scratch): {time_scratch:.4f} seconds\")\n"
   ]
  },
  {
   "cell_type": "markdown",
   "metadata": {},
   "source": [
    "# Plotting the loss-accuracy curve\n",
    "---"
   ]
  },
  {
   "cell_type": "code",
   "execution_count": 17,
   "metadata": {},
   "outputs": [
    {
     "data": {
      "image/png": "[encoded data removed]",
      "text/plain": [
       "<Figure size 640x480 with 2 Axes>"
      ]
     },
     "metadata": {},
     "output_type": "display_data"
    }
   ],
   "source": [
    "plot_learning_curves(losses, accuracies)"
   ]
  },
  {
   "cell_type": "markdown",
   "metadata": {},
   "source": [
    "# Data Pre-Processing for Neural Network [Tensorflow]\n",
    "---"
   ]
  },
  {
   "cell_type": "code",
   "execution_count": 18,
   "metadata": {},
   "outputs": [],
   "source": [
    "(X_train, y_train), (X_test, y_test) = mnist.load_data()\n",
    "\n",
    "# Flatten and normalize the images\n",
    "X_train_flat = X_train.reshape(-1, 28 * 28) / 255.0\n",
    "X_test_flat = X_test.reshape(-1, 28 * 28) / 255.0\n",
    "\n",
    "# One-hot encode the labels\n",
    "onehot_encoder = OneHotEncoder(sparse_output=False, categories='auto')\n",
    "y_train = onehot_encoder.fit_transform(y_train.reshape(-1, 1))\n",
    "y_test = onehot_encoder.transform(y_test.reshape(-1, 1))\n",
    "\n",
    "# Split data into train and validation sets\n",
    "X_train_flat, X_val_flat, y_train_flat, y_val_flat = train_test_split(\n",
    "    X_train_flat, y_train, test_size=0.2, random_state=42\n",
    ")"
   ]
  },
  {
   "cell_type": "markdown",
   "metadata": {},
   "source": [
    "# Model building, Training and Evaluation\n",
    "---"
   ]
  },
  {
   "cell_type": "code",
   "execution_count": 19,
   "metadata": {},
   "outputs": [
    {
     "name": "stderr",
     "output_type": "stream",
     "text": [
      "c:\\Users\\Shikhar\\AppData\\Local\\Programs\\Python\\Python312\\Lib\\site-packages\\keras\\src\\layers\\core\\input_layer.py:26: UserWarning: Argument `input_shape` is deprecated. Use `shape` instead.\n",
      "  warnings.warn(\n"
     ]
    },
    {
     "name": "stdout",
     "output_type": "stream",
     "text": [
      "Epoch 1/10\n",
      "\u001b[1m375/375\u001b[0m \u001b[32m━━━━━━━━━━━━━━━━━━━━\u001b[0m\u001b[37m\u001b[0m \u001b[1m5s\u001b[0m 6ms/step - accuracy: 0.8495 - loss: 0.5127 - val_accuracy: 0.9493 - val_loss: 0.1795\n",
      "Epoch 2/10\n",
      "\u001b[1m375/375\u001b[0m \u001b[32m━━━━━━━━━━━━━━━━━━━━\u001b[0m\u001b[37m\u001b[0m \u001b[1m2s\u001b[0m 6ms/step - accuracy: 0.9539 - loss: 0.1560 - val_accuracy: 0.9610 - val_loss: 0.1306\n",
      "Epoch 3/10\n",
      "\u001b[1m375/375\u001b[0m \u001b[32m━━━━━━━━━━━━━━━━━━━━\u001b[0m\u001b[37m\u001b[0m \u001b[1m3s\u001b[0m 7ms/step - accuracy: 0.9704 - loss: 0.1027 - val_accuracy: 0.9684 - val_loss: 0.1097\n",
      "Epoch 4/10\n",
      "\u001b[1m375/375\u001b[0m \u001b[32m━━━━━━━━━━━━━━━━━━━━\u001b[0m\u001b[37m\u001b[0m \u001b[1m3s\u001b[0m 7ms/step - accuracy: 0.9788 - loss: 0.0735 - val_accuracy: 0.9683 - val_loss: 0.1001\n",
      "Epoch 5/10\n",
      "\u001b[1m375/375\u001b[0m \u001b[32m━━━━━━━━━━━━━━━━━━━━\u001b[0m\u001b[37m\u001b[0m \u001b[1m3s\u001b[0m 7ms/step - accuracy: 0.9854 - loss: 0.0528 - val_accuracy: 0.9737 - val_loss: 0.0876\n",
      "Epoch 6/10\n",
      "\u001b[1m375/375\u001b[0m \u001b[32m━━━━━━━━━━━━━━━━━━━━\u001b[0m\u001b[37m\u001b[0m \u001b[1m2s\u001b[0m 5ms/step - accuracy: 0.9864 - loss: 0.0459 - val_accuracy: 0.9742 - val_loss: 0.0878\n",
      "Epoch 7/10\n",
      "\u001b[1m375/375\u001b[0m \u001b[32m━━━━━━━━━━━━━━━━━━━━\u001b[0m\u001b[37m\u001b[0m \u001b[1m2s\u001b[0m 6ms/step - accuracy: 0.9900 - loss: 0.0354 - val_accuracy: 0.9728 - val_loss: 0.0888\n",
      "Epoch 8/10\n",
      "\u001b[1m375/375\u001b[0m \u001b[32m━━━━━━━━━━━━━━━━━━━━\u001b[0m\u001b[37m\u001b[0m \u001b[1m2s\u001b[0m 6ms/step - accuracy: 0.9929 - loss: 0.0265 - val_accuracy: 0.9750 - val_loss: 0.0803\n",
      "Epoch 9/10\n",
      "\u001b[1m375/375\u001b[0m \u001b[32m━━━━━━━━━━━━━━━━━━━━\u001b[0m\u001b[37m\u001b[0m \u001b[1m2s\u001b[0m 5ms/step - accuracy: 0.9935 - loss: 0.0233 - val_accuracy: 0.9743 - val_loss: 0.0875\n",
      "Epoch 10/10\n",
      "\u001b[1m375/375\u001b[0m \u001b[32m━━━━━━━━━━━━━━━━━━━━\u001b[0m\u001b[37m\u001b[0m \u001b[1m2s\u001b[0m 6ms/step - accuracy: 0.9954 - loss: 0.0181 - val_accuracy: 0.9771 - val_loss: 0.0861\n",
      "\u001b[1m313/313\u001b[0m \u001b[32m━━━━━━━━━━━━━━━━━━━━\u001b[0m\u001b[37m\u001b[0m \u001b[1m1s\u001b[0m 4ms/step\n",
      "\n",
      "Evaluation of TensorFlow Neural Network:\n",
      "Accuracy: 0.9754\n",
      "Precision: 0.9755\n",
      "Recall: 0.9754\n",
      "F1-Score: 0.9754\n",
      "Training Time (TensorFlow): 26.2165 seconds\n"
     ]
    }
   ],
   "source": [
    "model = models.Sequential()\n",
    "model.add(layers.InputLayer(input_shape=(784,)))\n",
    "model.add(layers.Dense(128, activation='relu'))\n",
    "model.add(layers.Dense(10, activation='softmax'))\n",
    "\n",
    "model.compile(optimizer=tf.keras.optimizers.Adam(learning_rate=0.002),\n",
    "              loss='categorical_crossentropy',\n",
    "              metrics=['accuracy'])\n",
    "\n",
    "# Train the TensorFlow model and record time\n",
    "start_time = time.time()\n",
    "\n",
    "history = model.fit(X_train_flat, y_train_flat, epochs=10, batch_size=128, validation_data=(X_val_flat, y_val_flat))\n",
    "\n",
    "time_tf = time.time() - start_time\n",
    "\n",
    "# Evaluate TensorFlow model\n",
    "y_pred_tf = model.predict(X_test_flat)\n",
    "\n",
    "# Convert one-hot encoded y_test back to categorical labels\n",
    "y_test_labels = np.argmax(y_test, axis=1)\n",
    "\n",
    "# Get predicted class labels from the model output\n",
    "y_pred_tf_labels = np.argmax(y_pred_tf, axis=1)\n",
    "\n",
    "print(\"\\nEvaluation of TensorFlow Neural Network:\")\n",
    "acc_tf = accuracy_score(y_test_labels, y_pred_tf_labels)\n",
    "precision_tf = precision_score(y_test_labels, y_pred_tf_labels, average='weighted')\n",
    "recall_tf = recall_score(y_test_labels, y_pred_tf_labels, average='weighted')\n",
    "f1_tf = f1_score(y_test_labels, y_pred_tf_labels, average='weighted')\n",
    "\n",
    "print(f'Accuracy: {acc_tf:.4f}')\n",
    "print(f'Precision: {precision_tf:.4f}')\n",
    "print(f'Recall: {recall_tf:.4f}')\n",
    "print(f'F1-Score: {f1_tf:.4f}')\n",
    "print(f\"Training Time (TensorFlow): {time_tf:.4f} seconds\")\n"
   ]
  },
  {
   "cell_type": "markdown",
   "metadata": {},
   "source": []
  },
  {
   "cell_type": "code",
   "execution_count": 20,
   "metadata": {},
   "outputs": [
    {
     "data": {
      "text/plain": [
       "<Figure size 1200x500 with 0 Axes>"
      ]
     },
     "metadata": {},
     "output_type": "display_data"
    },
    {
     "data": {
      "image/png": "[encoded data removed]",
      "text/plain": [
       "<Figure size 640x480 with 2 Axes>"
      ]
     },
     "metadata": {},
     "output_type": "display_data"
    }
   ],
   "source": [
    "plt.figure(figsize=(12, 5))\n",
    "fig,ax1 = plt.subplots()\n",
    "ax2 = ax1.twinx()\n",
    "ax1.plot(history.history['accuracy'], label='Training Accuracy',color='red')\n",
    "ax1.plot(history.history['val_accuracy'], label='Validation Accuracy',color='blue')\n",
    "ax2.plot(history.history['loss'],label='Loss',color='purple')\n",
    "ax1.set_ylabel('Accuracy over Epochs (TensorFlow)')\n",
    "ax2.set_ylabel('Loss over Epochs')\n",
    "\n",
    "ax1.tick_params(axis='y', labelcolor='red')\n",
    "ax2.tick_params(axis='y', labelcolor='purple')\n",
    "fig.tight_layout()\n",
    "ax1.legend()\n",
    "ax2.legend()\n",
    "plt.show()\n",
    "\n"
   ]
  },
  {
   "cell_type": "code",
   "execution_count": 21,
   "metadata": {},
   "outputs": [
    {
     "name": "stdout",
     "output_type": "stream",
     "text": [
      "\n",
      "Comparison of Neural Network from Scratch vs. TensorFlow:\n",
      "Metric               NN from Scratch      TensorFlow          \n",
      "------------------------------------------------------------\n",
      "Accuracy             0.9547               0.9754              \n",
      "Precision            0.9544               0.9755              \n",
      "Recall               0.9542               0.9754              \n",
      "F1-Score             0.9542               0.9754              \n",
      "Training Time (s)    975.6853             26.2165             \n"
     ]
    }
   ],
   "source": [
    "print(\"\\nComparison of Neural Network from Scratch vs. TensorFlow:\")\n",
    "\n",
    "print(f\"{'Metric':<20} {'NN from Scratch':<20} {'TensorFlow':<20}\")\n",
    "print(f\"{'-'*60}\")\n",
    "print(f\"{'Accuracy':<20} {acc_scratch:<20.4f} {acc_tf:<20.4f}\")\n",
    "print(f\"{'Precision':<20} {precision_scratch:<20.4f} {precision_tf:<20.4f}\")\n",
    "print(f\"{'Recall':<20} {recall_scratch:<20.4f} {recall_tf:<20.4f}\")\n",
    "print(f\"{'F1-Score':<20} {f1_scratch:<20.4f} {f1_tf:<20.4f}\")\n",
    "print(f\"{'Training Time (s)':<20} {time_scratch:<20.4f} {time_tf:<20.4f}\")\n"
   ]
  },
  {
   "cell_type": "code",
   "execution_count": 22,
   "metadata": {},
   "outputs": [
    {
     "name": "stderr",
     "output_type": "stream",
     "text": [
      "WARNING:absl:You are saving your model as an HDF5 file via `model.save()` or `keras.saving.save_model(model)`. This file format is considered legacy. We recommend using instead the native Keras format, e.g. `model.save('my_model.keras')` or `keras.saving.save_model(model, 'my_model.keras')`. \n"
     ]
    }
   ],
   "source": [
    "model.save('model/mnist_model.h5')  # Saving the model\n",
    "np.savez('model/mnist_nn_weights.npz', w1=w1, w2=w2, b1=b1, b2=b2)\n"
   ]
  }
 ],
 "metadata": {
  "kernelspec": {
   "display_name": "Python 3",
   "language": "python",
   "name": "python3"
  },
  "language_info": {
   "codemirror_mode": {
    "name": "ipython",
    "version": 3
   },
   "file_extension": ".py",
   "mimetype": "text/x-python",
   "name": "python",
   "nbconvert_exporter": "python",
   "pygments_lexer": "ipython3",
   "version": "3.12.1"
  }
 },
 "nbformat": 4,
 "nbformat_minor": 2
}
